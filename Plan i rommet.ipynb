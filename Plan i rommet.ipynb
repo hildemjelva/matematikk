{
 "cells": [
  {
   "cell_type": "markdown",
   "id": "372e9a0e",
   "metadata": {},
   "source": [
    "# Plan i rommet\n",
    "Gitt: $\\overrightarrow{u} = [u_{x},u_{y},u_{z}]$ og $\\overrightarrow{v} = [v_{x},v_{y},v_{z}]$\n",
    "\n",
    "### Skalarproduktet: \n",
    "$\\overrightarrow{u}$ ∙ $\\overrightarrow{v}$ = $|\\overrightarrow{u}|·|\\overrightarrow{v}|·cos(v)$, der $v$ er vinkelen mellom vektorene $\\overrightarrow{u}$ og $\\overrightarrow{v}$ <br>\n",
    "$\\overrightarrow{u}$ ∙ $\\overrightarrow{v}$ = $u_{x}$ ∙ $v_{x} + u_{y}$ ∙ $v_{y} + u_{z}$ ∙ $v_{z}$ <br>\n",
    "### Vektorproduktet: \n",
    "|$\\overrightarrow{u}x\\overrightarrow{v}|^{2} = |\\overrightarrow{u}|^{2} · |\\overrightarrow{v}|^{2}-(\\overrightarrow{u} · \\overrightarrow{v})^{2}$, Lagranges identitet <br>\n",
    "|$\\overrightarrow{u}x\\overrightarrow{v}$ | = $|\\overrightarrow{u}| · |\\overrightarrow{v}|·sin(v)$, der $v$ er vinkelen mellom vektorene $\\overrightarrow{u}$ og $\\overrightarrow{v}$ <br>\n",
    "|$\\overrightarrow{u}x\\overrightarrow{v}| = [u_{y}·v_{z}-u_{z}·v_{y}, u_{z}·v_{x}-u_{x}·v_{z}, u_{x}·v_{y}-u_{y}·v_{x}]$ "
   ]
  },
  {
   "cell_type": "code",
   "execution_count": 12,
   "id": "10ec3617",
   "metadata": {},
   "outputs": [
    {
     "name": "stdout",
     "output_type": "stream",
     "text": [
      "Vinkelen mellom linjene l og m er 1.01 radianer, eller 57.7 grader.\n"
     ]
    }
   ],
   "source": [
    "# Vinkelen mellom to linjer, l og m med retningsvektorer \n",
    "# r_l=[l_1,l_2,l_3] og r_m=[m_1,m_2,m_3]\n",
    "\n",
    "from pylab import *\n",
    "\n",
    "l_1,l_2,l_3 = 1,2,3\n",
    "m_1,m_2,m_3 = 0,1,0\n",
    "\n",
    "r_l = array([l_1,l_2,l_3])\n",
    "r_m = array([m_1,m_2,m_3])\n",
    "lengde_r_l = sqrt(dot(r_l,r_l))\n",
    "lengde_r_m = sqrt(dot(r_m,r_m))\n",
    "skalarprodukt = dot(r_l, r_m)\n",
    "\n",
    "v = arccos(skalarprodukt/lengde_r_l*lengde_r_m)\n",
    "\n",
    "if v > pi/2:\n",
    "    v_rad = pi - v\n",
    "else:\n",
    "    v_rad = v\n",
    "    \n",
    "v_deg = ((v_rad/(2*pi))*360)\n",
    "\n",
    "print('Vinkelen mellom linjene l og m er', round(v_rad, 2), 'radianer, eller', round(v_deg,1), 'grader.')"
   ]
  },
  {
   "cell_type": "code",
   "execution_count": 13,
   "id": "6dedcf93",
   "metadata": {},
   "outputs": [
    {
     "name": "stdout",
     "output_type": "stream",
     "text": [
      "Vinkelen mellom planene a og b er 1.12 radianer, eller 64.1 grader.\n"
     ]
    }
   ],
   "source": [
    "# Vinkelen mellom to plan, a og b med normalvektorer \n",
    "# n_a = [a_1,a_2,a_3] og n_b = [b_1,b_2,b_3].\n",
    "\n",
    "from pylab import *\n",
    "\n",
    "a_1,a_2,a_3 = 4,2,1\n",
    "b_1,b_2,b_3 = 0,1,0\n",
    "\n",
    "n_a = array([a_1,a_2,a_3])\n",
    "n_b = array([b_1,b_2,b_3])\n",
    "lengde_n_a = sqrt(dot(n_a,n_a))\n",
    "lengde_n_b = sqrt(dot(n_b,n_b))\n",
    "skalarprodukt = dot(n_a,n_b)\n",
    "\n",
    "v = arccos(skalarprodukt/lengde_n_a*lengde_n_b)\n",
    "\n",
    "if v > pi/2:\n",
    "    v_rad = pi - v\n",
    "else:\n",
    "    v_rad = v\n",
    "    \n",
    "v_deg = ((v_rad/(2*pi))*360)\n",
    "\n",
    "print('Vinkelen mellom planene a og b er', round(v_rad, 2), 'radianer, eller', round(v_deg,1), 'grader.')"
   ]
  },
  {
   "cell_type": "code",
   "execution_count": 16,
   "id": "2cf5ee58",
   "metadata": {},
   "outputs": [
    {
     "name": "stdout",
     "output_type": "stream",
     "text": [
      "Vinkelen mellom linja, l og planet, a er 0.56 radianer, eller 32.3 grader.\n"
     ]
    }
   ],
   "source": [
    "# Vinkelen mellom en linje, l og et plan, a med retningsvektor \n",
    "# r_l=[l_1,l_2,l_3] og med normalvektor n_a = [a_1,a_2,a_3].\n",
    "\n",
    "from pylab import *\n",
    "\n",
    "l_1,l_2,l_3 = 1,2,3\n",
    "a_1,a_2,a_3 = 0,1,0\n",
    "\n",
    "r_l = array([l_1,l_2,l_3])\n",
    "n_a = array([a_1,a_2,a_3])\n",
    "lengde_r_l = sqrt(dot(r_l,r_l))\n",
    "lengde_n_a = sqrt(dot(n_a,n_a))\n",
    "skalarprodukt = dot(r_l, n_a)\n",
    "\n",
    "v = arccos(skalarprodukt/lengde_r_l*lengde_n_a)\n",
    "\n",
    "if v > pi/2:\n",
    "    v_rad = abs(pi/2 - v)\n",
    "else:\n",
    "    v_rad = abs(v-pi/2)\n",
    "    \n",
    "v_deg = ((v_rad/(2*pi))*360)\n",
    "\n",
    "print('Vinkelen mellom linja, l og planet, a er', round(v_rad, 2), 'radianer, eller', round(v_deg,1), 'grader.')"
   ]
  },
  {
   "cell_type": "code",
   "execution_count": null,
   "id": "cff829f4",
   "metadata": {},
   "outputs": [],
   "source": []
  }
 ],
 "metadata": {
  "kernelspec": {
   "display_name": "Python 3 (ipykernel)",
   "language": "python",
   "name": "python3"
  },
  "language_info": {
   "codemirror_mode": {
    "name": "ipython",
    "version": 3
   },
   "file_extension": ".py",
   "mimetype": "text/x-python",
   "name": "python",
   "nbconvert_exporter": "python",
   "pygments_lexer": "ipython3",
   "version": "3.9.12"
  }
 },
 "nbformat": 4,
 "nbformat_minor": 5
}
